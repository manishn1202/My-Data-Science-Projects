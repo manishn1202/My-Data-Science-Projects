{
  "nbformat": 4,
  "nbformat_minor": 0,
  "metadata": {
    "colab": {
      "name": "Copy of Telco customer churn.ipynb",
      "version": "0.3.2",
      "provenance": [],
      "collapsed_sections": [],
      "toc_visible": true,
      "include_colab_link": true
    },
    "kernelspec": {
      "name": "python3",
      "display_name": "Python 3"
    },
    "accelerator": "GPU"
  },
  "cells": [
    {
      "cell_type": "markdown",
      "metadata": {
        "id": "view-in-github",
        "colab_type": "text"
      },
      "source": [
        "<a href=\"https://colab.research.google.com/github/skappal7/Coursera-Data-science-Project/blob/master/Customer%20Churn%20Model.ipynb\" target=\"_parent\"><img src=\"https://colab.research.google.com/assets/colab-badge.svg\" alt=\"Open In Colab\"/></a>"
      ]
    },
    {
      "metadata": {
        "id": "NgP0ybBFGpfW",
        "colab_type": "text"
      },
      "cell_type": "markdown",
      "source": [
        "# B**uilding a simple Customer Churn Model**\n",
        "\n",
        "---\n",
        "\n",
        "\n",
        "![alt text](https://skappal7.files.wordpress.com/2017/08/datadojo7.jpg?w=300)"
      ]
    },
    {
      "metadata": {
        "id": "7Lk3dQuVD5HY",
        "colab_type": "text"
      },
      "cell_type": "markdown",
      "source": [
        "** Creating Customer Churn Model**"
      ]
    },
    {
      "metadata": {
        "id": "jGYyWGQ5C1En",
        "colab_type": "code",
        "colab": {}
      },
      "cell_type": "code",
      "source": [
        "import pandas as pd \n",
        "from sklearn.model_selection import train_test_split\n",
        "from sklearn.ensemble import RandomForestClassifier\n",
        "from sklearn.metrics import confusion_matrix\n",
        "from sklearn.metrics import roc_curve\n",
        "import matplotlib\n",
        "import matplotlib.pyplot as plt\n",
        "from IPython.display import display, HTML"
      ],
      "execution_count": 0,
      "outputs": []
    },
    {
      "metadata": {
        "id": "n5ajv3WjEmj0",
        "colab_type": "text"
      },
      "cell_type": "markdown",
      "source": [
        "**Read the Data**"
      ]
    },
    {
      "metadata": {
        "id": "CW5-0PUpC4-H",
        "colab_type": "code",
        "colab": {
          "base_uri": "https://localhost:8080/",
          "height": 238
        },
        "outputId": "5c49244e-e888-4d5a-8d33-c48908f07d7f"
      },
      "cell_type": "code",
      "source": [
        "df = pd.read_csv(\"Customer Churn Data.csv\")\n",
        "display(df.head(5))"
      ],
      "execution_count": 49,
      "outputs": [
        {
          "output_type": "display_data",
          "data": {
            "text/html": [
              "<div>\n",
              "<style scoped>\n",
              "    .dataframe tbody tr th:only-of-type {\n",
              "        vertical-align: middle;\n",
              "    }\n",
              "\n",
              "    .dataframe tbody tr th {\n",
              "        vertical-align: top;\n",
              "    }\n",
              "\n",
              "    .dataframe thead th {\n",
              "        text-align: right;\n",
              "    }\n",
              "</style>\n",
              "<table border=\"1\" class=\"dataframe\">\n",
              "  <thead>\n",
              "    <tr style=\"text-align: right;\">\n",
              "      <th></th>\n",
              "      <th>Escalation</th>\n",
              "      <th>Negative Experience</th>\n",
              "      <th>Chronic Caller</th>\n",
              "      <th>Competitor 1</th>\n",
              "      <th>Competitor 2</th>\n",
              "      <th>Competitor 3</th>\n",
              "      <th>Competitor 4</th>\n",
              "      <th>Customer &lt;12 Months</th>\n",
              "      <th>$5 a Month</th>\n",
              "      <th>Low Bill</th>\n",
              "      <th>Expensive</th>\n",
              "      <th>Churn</th>\n",
              "    </tr>\n",
              "  </thead>\n",
              "  <tbody>\n",
              "    <tr>\n",
              "      <th>0</th>\n",
              "      <td>0</td>\n",
              "      <td>0</td>\n",
              "      <td>1</td>\n",
              "      <td>0</td>\n",
              "      <td>0</td>\n",
              "      <td>0</td>\n",
              "      <td>0</td>\n",
              "      <td>1</td>\n",
              "      <td>0</td>\n",
              "      <td>0</td>\n",
              "      <td>0</td>\n",
              "      <td>1</td>\n",
              "    </tr>\n",
              "    <tr>\n",
              "      <th>1</th>\n",
              "      <td>0</td>\n",
              "      <td>0</td>\n",
              "      <td>0</td>\n",
              "      <td>0</td>\n",
              "      <td>0</td>\n",
              "      <td>0</td>\n",
              "      <td>0</td>\n",
              "      <td>1</td>\n",
              "      <td>0</td>\n",
              "      <td>0</td>\n",
              "      <td>0</td>\n",
              "      <td>1</td>\n",
              "    </tr>\n",
              "    <tr>\n",
              "      <th>2</th>\n",
              "      <td>0</td>\n",
              "      <td>0</td>\n",
              "      <td>0</td>\n",
              "      <td>0</td>\n",
              "      <td>0</td>\n",
              "      <td>0</td>\n",
              "      <td>0</td>\n",
              "      <td>1</td>\n",
              "      <td>0</td>\n",
              "      <td>0</td>\n",
              "      <td>0</td>\n",
              "      <td>1</td>\n",
              "    </tr>\n",
              "    <tr>\n",
              "      <th>3</th>\n",
              "      <td>0</td>\n",
              "      <td>0</td>\n",
              "      <td>0</td>\n",
              "      <td>0</td>\n",
              "      <td>0</td>\n",
              "      <td>0</td>\n",
              "      <td>0</td>\n",
              "      <td>1</td>\n",
              "      <td>0</td>\n",
              "      <td>0</td>\n",
              "      <td>0</td>\n",
              "      <td>1</td>\n",
              "    </tr>\n",
              "    <tr>\n",
              "      <th>4</th>\n",
              "      <td>0</td>\n",
              "      <td>0</td>\n",
              "      <td>0</td>\n",
              "      <td>0</td>\n",
              "      <td>0</td>\n",
              "      <td>0</td>\n",
              "      <td>0</td>\n",
              "      <td>1</td>\n",
              "      <td>0</td>\n",
              "      <td>0</td>\n",
              "      <td>0</td>\n",
              "      <td>1</td>\n",
              "    </tr>\n",
              "  </tbody>\n",
              "</table>\n",
              "</div>"
            ],
            "text/plain": [
              "   Escalation  Negative Experience  Chronic Caller  Competitor 1  \\\n",
              "0           0                    0               1             0   \n",
              "1           0                    0               0             0   \n",
              "2           0                    0               0             0   \n",
              "3           0                    0               0             0   \n",
              "4           0                    0               0             0   \n",
              "\n",
              "   Competitor 2  Competitor 3  Competitor 4  Customer <12 Months   $5 a Month  \\\n",
              "0             0             0             0                    1            0   \n",
              "1             0             0             0                    1            0   \n",
              "2             0             0             0                    1            0   \n",
              "3             0             0             0                    1            0   \n",
              "4             0             0             0                    1            0   \n",
              "\n",
              "   Low Bill  Expensive  Churn  \n",
              "0         0          0      1  \n",
              "1         0          0      1  \n",
              "2         0          0      1  \n",
              "3         0          0      1  \n",
              "4         0          0      1  "
            ]
          },
          "metadata": {
            "tags": []
          }
        }
      ]
    },
    {
      "metadata": {
        "id": "GCASWNq_FHN2",
        "colab_type": "text"
      },
      "cell_type": "markdown",
      "source": [
        "** Understand the shape of your data**"
      ]
    },
    {
      "metadata": {
        "id": "ySqmd0XVDEts",
        "colab_type": "code",
        "colab": {
          "base_uri": "https://localhost:8080/",
          "height": 185
        },
        "outputId": "a5d1c448-574c-4851-9097-49b9781b472d"
      },
      "cell_type": "code",
      "source": [
        "print(\"Number of rows: \", df.shape[0])\n",
        "counts = df.describe().iloc[0]\n",
        "display(\n",
        "    pd.DataFrame(\n",
        "        counts.tolist(), \n",
        "        columns=[\"Count of values\"], \n",
        "        index=counts.index.values\n",
        "    ).transpose()\n",
        ")"
      ],
      "execution_count": 50,
      "outputs": [
        {
          "output_type": "stream",
          "text": [
            "Number of rows:  4892\n"
          ],
          "name": "stdout"
        },
        {
          "output_type": "display_data",
          "data": {
            "text/html": [
              "<div>\n",
              "<style scoped>\n",
              "    .dataframe tbody tr th:only-of-type {\n",
              "        vertical-align: middle;\n",
              "    }\n",
              "\n",
              "    .dataframe tbody tr th {\n",
              "        vertical-align: top;\n",
              "    }\n",
              "\n",
              "    .dataframe thead th {\n",
              "        text-align: right;\n",
              "    }\n",
              "</style>\n",
              "<table border=\"1\" class=\"dataframe\">\n",
              "  <thead>\n",
              "    <tr style=\"text-align: right;\">\n",
              "      <th></th>\n",
              "      <th>Escalation</th>\n",
              "      <th>Negative Experience</th>\n",
              "      <th>Chronic Caller</th>\n",
              "      <th>Competitor 1</th>\n",
              "      <th>Competitor 2</th>\n",
              "      <th>Competitor 3</th>\n",
              "      <th>Competitor 4</th>\n",
              "      <th>Customer &lt;12 Months</th>\n",
              "      <th>$5 a Month</th>\n",
              "      <th>Low Bill</th>\n",
              "      <th>Expensive</th>\n",
              "      <th>Churn</th>\n",
              "    </tr>\n",
              "  </thead>\n",
              "  <tbody>\n",
              "    <tr>\n",
              "      <th>Count of values</th>\n",
              "      <td>4892.0</td>\n",
              "      <td>4892.0</td>\n",
              "      <td>4892.0</td>\n",
              "      <td>4892.0</td>\n",
              "      <td>4892.0</td>\n",
              "      <td>4892.0</td>\n",
              "      <td>4892.0</td>\n",
              "      <td>4892.0</td>\n",
              "      <td>4892.0</td>\n",
              "      <td>4892.0</td>\n",
              "      <td>4892.0</td>\n",
              "      <td>4892.0</td>\n",
              "    </tr>\n",
              "  </tbody>\n",
              "</table>\n",
              "</div>"
            ],
            "text/plain": [
              "                 Escalation  Negative Experience  Chronic Caller  \\\n",
              "Count of values      4892.0               4892.0          4892.0   \n",
              "\n",
              "                 Competitor 1  Competitor 2  Competitor 3  Competitor 4  \\\n",
              "Count of values        4892.0        4892.0        4892.0        4892.0   \n",
              "\n",
              "                 Customer <12 Months   $5 a Month  Low Bill  Expensive   Churn  \n",
              "Count of values               4892.0       4892.0    4892.0     4892.0  4892.0  "
            ]
          },
          "metadata": {
            "tags": []
          }
        }
      ]
    },
    {
      "metadata": {
        "id": "V5HOxWvnFNQj",
        "colab_type": "text"
      },
      "cell_type": "markdown",
      "source": [
        "**Variables that you want to get rid of**"
      ]
    },
    {
      "metadata": {
        "id": "ATDhMQTtDRW4",
        "colab_type": "code",
        "colab": {}
      },
      "cell_type": "code",
      "source": [
        "df = df.drop([\"Competitor 2\", \"Competitor 3\", \"Competitor 4\"], axis=1)\n",
        "features = df.drop([\"Churn\"], axis=1).columns"
      ],
      "execution_count": 0,
      "outputs": []
    },
    {
      "metadata": {
        "id": "wYBoQFqeFTgO",
        "colab_type": "text"
      },
      "cell_type": "markdown",
      "source": [
        "**Split the data**"
      ]
    },
    {
      "metadata": {
        "id": "VmqY5ItQDeXV",
        "colab_type": "code",
        "colab": {}
      },
      "cell_type": "code",
      "source": [
        "df_train, df_test = train_test_split(df, test_size=0.25)"
      ],
      "execution_count": 0,
      "outputs": []
    },
    {
      "metadata": {
        "id": "hgftFaWbFcGM",
        "colab_type": "text"
      },
      "cell_type": "markdown",
      "source": [
        "**Get your RandomForest Classifier in action**"
      ]
    },
    {
      "metadata": {
        "id": "UvcH-pWbDoJs",
        "colab_type": "code",
        "colab": {
          "base_uri": "https://localhost:8080/",
          "height": 136
        },
        "outputId": "748ebdb3-c05e-4f16-9bac-559248bf3e53"
      },
      "cell_type": "code",
      "source": [
        "clf = RandomForestClassifier(n_estimators=30)\n",
        "clf.fit(df_train[features], df_train[\"Churn\"])"
      ],
      "execution_count": 53,
      "outputs": [
        {
          "output_type": "execute_result",
          "data": {
            "text/plain": [
              "RandomForestClassifier(bootstrap=True, class_weight=None, criterion='gini',\n",
              "            max_depth=None, max_features='auto', max_leaf_nodes=None,\n",
              "            min_impurity_decrease=0.0, min_impurity_split=None,\n",
              "            min_samples_leaf=1, min_samples_split=2,\n",
              "            min_weight_fraction_leaf=0.0, n_estimators=30, n_jobs=None,\n",
              "            oob_score=False, random_state=None, verbose=0,\n",
              "            warm_start=False)"
            ]
          },
          "metadata": {
            "tags": []
          },
          "execution_count": 53
        }
      ]
    },
    {
      "metadata": {
        "id": "Hl63kq0MFikT",
        "colab_type": "text"
      },
      "cell_type": "markdown",
      "source": [
        "**Let's make some predictions**"
      ]
    },
    {
      "metadata": {
        "id": "_vlE1gsqDs0a",
        "colab_type": "code",
        "colab": {
          "base_uri": "https://localhost:8080/",
          "height": 34
        },
        "outputId": "ab1e8438-99f9-4280-ed5b-b578e886de7f"
      },
      "cell_type": "code",
      "source": [
        "predictions = clf.predict(df_test[features])\n",
        "probs = clf.predict_proba(df_test[features])\n",
        "display(predictions)"
      ],
      "execution_count": 54,
      "outputs": [
        {
          "output_type": "display_data",
          "data": {
            "text/plain": [
              "array([0, 0, 1, ..., 0, 1, 0])"
            ]
          },
          "metadata": {
            "tags": []
          }
        }
      ]
    },
    {
      "metadata": {
        "id": "gM5VOhfVF_sS",
        "colab_type": "text"
      },
      "cell_type": "markdown",
      "source": [
        "**Evaluate the Model**"
      ]
    },
    {
      "metadata": {
        "id": "vZXafQ6uDwP7",
        "colab_type": "code",
        "colab": {
          "base_uri": "https://localhost:8080/",
          "height": 34
        },
        "outputId": "d4b21d81-a1a7-4374-dc8e-fbf2177cbd03"
      },
      "cell_type": "code",
      "source": [
        "score = clf.score(df_test[features], df_test[\"Churn\"])\n",
        "print(\"Accuracy: \", score)"
      ],
      "execution_count": 55,
      "outputs": [
        {
          "output_type": "stream",
          "text": [
            "Accuracy:  0.5821749795584628\n"
          ],
          "name": "stdout"
        }
      ]
    },
    {
      "metadata": {
        "id": "0Sb6nmt_GEoz",
        "colab_type": "text"
      },
      "cell_type": "markdown",
      "source": [
        "**Creating the Confusion Matrix & ROC**"
      ]
    },
    {
      "metadata": {
        "id": "4xkaTWDwD1S-",
        "colab_type": "code",
        "colab": {
          "base_uri": "https://localhost:8080/",
          "height": 388
        },
        "outputId": "17215e5d-383e-4d23-9afd-a0af28847f83"
      },
      "cell_type": "code",
      "source": [
        "get_ipython().magic('matplotlib inline')\n",
        "confusion_matrix = pd.DataFrame(\n",
        "    confusion_matrix(df_test[\"Churn\"], predictions), \n",
        "    columns=[\"Predicted False\", \"Predicted True\"], \n",
        "    index=[\"Actual False\", \"Actual True\"]\n",
        ")\n",
        "display(confusion_matrix)\n",
        "\n",
        "# Calculate the fpr and tpr for all thresholds of the classification\n",
        "fpr, tpr, threshold = roc_curve(df_test[\"Churn\"], probs[:,1])\n",
        "plt.title('Receiver Operating Characteristic')\n",
        "plt.plot(fpr, tpr, 'b')\n",
        "plt.plot([0, 1], [0, 1],'r--')\n",
        "plt.xlim([0, 1])\n",
        "plt.ylim([0, 1])\n",
        "plt.ylabel('True Positive Rate')\n",
        "plt.xlabel('False Positive Rate')\n",
        "plt.show()"
      ],
      "execution_count": 56,
      "outputs": [
        {
          "output_type": "display_data",
          "data": {
            "text/html": [
              "<div>\n",
              "<style scoped>\n",
              "    .dataframe tbody tr th:only-of-type {\n",
              "        vertical-align: middle;\n",
              "    }\n",
              "\n",
              "    .dataframe tbody tr th {\n",
              "        vertical-align: top;\n",
              "    }\n",
              "\n",
              "    .dataframe thead th {\n",
              "        text-align: right;\n",
              "    }\n",
              "</style>\n",
              "<table border=\"1\" class=\"dataframe\">\n",
              "  <thead>\n",
              "    <tr style=\"text-align: right;\">\n",
              "      <th></th>\n",
              "      <th>Predicted False</th>\n",
              "      <th>Predicted True</th>\n",
              "    </tr>\n",
              "  </thead>\n",
              "  <tbody>\n",
              "    <tr>\n",
              "      <th>Actual False</th>\n",
              "      <td>501</td>\n",
              "      <td>119</td>\n",
              "    </tr>\n",
              "    <tr>\n",
              "      <th>Actual True</th>\n",
              "      <td>392</td>\n",
              "      <td>211</td>\n",
              "    </tr>\n",
              "  </tbody>\n",
              "</table>\n",
              "</div>"
            ],
            "text/plain": [
              "              Predicted False  Predicted True\n",
              "Actual False              501             119\n",
              "Actual True               392             211"
            ]
          },
          "metadata": {
            "tags": []
          }
        },
        {
          "output_type": "display_data",
          "data": {
            "image/png": "[encoded data removed]",
            "text/plain": [
              "<Figure size 432x288 with 1 Axes>"
            ]
          },
          "metadata": {
            "tags": []
          }
        }
      ]
    },
    {
      "metadata": {
        "id": "o0mkcWMwGa_P",
        "colab_type": "text"
      },
      "cell_type": "markdown",
      "source": [
        "**Feature Importance Graph**"
      ]
    },
    {
      "metadata": {
        "id": "zDJgQKBCED8w",
        "colab_type": "code",
        "colab": {
          "base_uri": "https://localhost:8080/",
          "height": 1233
        },
        "outputId": "b8694eb4-0292-41f6-9169-2e94f9a9d885"
      },
      "cell_type": "code",
      "source": [
        "fig = plt.figure(figsize=(20, 18))\n",
        "ax = fig.add_subplot(111)\n",
        "\n",
        "df_f = pd.DataFrame(clf.feature_importances_, columns=[\"importance\"])\n",
        "df_f[\"labels\"] = features\n",
        "df_f.sort_values(\"importance\", inplace=True, ascending=False)\n",
        "display(df_f.head(5))\n",
        "\n",
        "index = np.arange(len(clf.feature_importances_))\n",
        "bar_width = 0.5\n",
        "rects = plt.barh(index , df_f[\"importance\"], bar_width, alpha=0.4, color='b', label='Main')\n",
        "plt.yticks(index, df_f[\"labels\"])\n",
        "plt.show()"
      ],
      "execution_count": 57,
      "outputs": [
        {
          "output_type": "display_data",
          "data": {
            "text/html": [
              "<div>\n",
              "<style scoped>\n",
              "    .dataframe tbody tr th:only-of-type {\n",
              "        vertical-align: middle;\n",
              "    }\n",
              "\n",
              "    .dataframe tbody tr th {\n",
              "        vertical-align: top;\n",
              "    }\n",
              "\n",
              "    .dataframe thead th {\n",
              "        text-align: right;\n",
              "    }\n",
              "</style>\n",
              "<table border=\"1\" class=\"dataframe\">\n",
              "  <thead>\n",
              "    <tr style=\"text-align: right;\">\n",
              "      <th></th>\n",
              "      <th>importance</th>\n",
              "      <th>labels</th>\n",
              "    </tr>\n",
              "  </thead>\n",
              "  <tbody>\n",
              "    <tr>\n",
              "      <th>2</th>\n",
              "      <td>0.262418</td>\n",
              "      <td>Chronic Caller</td>\n",
              "    </tr>\n",
              "    <tr>\n",
              "      <th>1</th>\n",
              "      <td>0.212726</td>\n",
              "      <td>Negative Experience</td>\n",
              "    </tr>\n",
              "    <tr>\n",
              "      <th>0</th>\n",
              "      <td>0.191030</td>\n",
              "      <td>Escalation</td>\n",
              "    </tr>\n",
              "    <tr>\n",
              "      <th>6</th>\n",
              "      <td>0.101421</td>\n",
              "      <td>Low Bill</td>\n",
              "    </tr>\n",
              "    <tr>\n",
              "      <th>4</th>\n",
              "      <td>0.083600</td>\n",
              "      <td>Customer &lt;12 Months</td>\n",
              "    </tr>\n",
              "  </tbody>\n",
              "</table>\n",
              "</div>"
            ],
            "text/plain": [
              "   importance               labels\n",
              "2    0.262418       Chronic Caller\n",
              "1    0.212726  Negative Experience\n",
              "0    0.191030           Escalation\n",
              "6    0.101421             Low Bill\n",
              "4    0.083600  Customer <12 Months"
            ]
          },
          "metadata": {
            "tags": []
          }
        },
        {
          "output_type": "display_data",
          "data": {
            "image/png": "[encoded data removed]",
            "text/plain": [
              "<Figure size 1440x1296 with 1 Axes>"
            ]
          },
          "metadata": {
            "tags": []
          }
        }
      ]
    },
    {
      "metadata": {
        "id": "3PO7Qs0vGjJp",
        "colab_type": "text"
      },
      "cell_type": "markdown",
      "source": [
        "**Result**"
      ]
    },
    {
      "metadata": {
        "id": "GoL2jBOWEQQr",
        "colab_type": "code",
        "colab": {
          "base_uri": "https://localhost:8080/",
          "height": 306
        },
        "outputId": "19702bbb-22dd-4775-ec51-688355988c47"
      },
      "cell_type": "code",
      "source": [
        "df_test[\"prob_true\"] = probs[:, 1]\n",
        "df_risky = df_test[df_test[\"prob_true\"] > 0.9]\n",
        "display(df_risky.head(5)[[\"prob_true\"]])"
      ],
      "execution_count": 58,
      "outputs": [
        {
          "output_type": "stream",
          "text": [
            "/usr/local/lib/python3.6/dist-packages/ipykernel_launcher.py:1: SettingWithCopyWarning: \n",
            "A value is trying to be set on a copy of a slice from a DataFrame.\n",
            "Try using .loc[row_indexer,col_indexer] = value instead\n",
            "\n",
            "See the caveats in the documentation: http://pandas.pydata.org/pandas-docs/stable/indexing.html#indexing-view-versus-copy\n",
            "  \"\"\"Entry point for launching an IPython kernel.\n"
          ],
          "name": "stderr"
        },
        {
          "output_type": "display_data",
          "data": {
            "text/html": [
              "<div>\n",
              "<style scoped>\n",
              "    .dataframe tbody tr th:only-of-type {\n",
              "        vertical-align: middle;\n",
              "    }\n",
              "\n",
              "    .dataframe tbody tr th {\n",
              "        vertical-align: top;\n",
              "    }\n",
              "\n",
              "    .dataframe thead th {\n",
              "        text-align: right;\n",
              "    }\n",
              "</style>\n",
              "<table border=\"1\" class=\"dataframe\">\n",
              "  <thead>\n",
              "    <tr style=\"text-align: right;\">\n",
              "      <th></th>\n",
              "      <th>prob_true</th>\n",
              "    </tr>\n",
              "  </thead>\n",
              "  <tbody>\n",
              "    <tr>\n",
              "      <th>71</th>\n",
              "      <td>1.000000</td>\n",
              "    </tr>\n",
              "    <tr>\n",
              "      <th>83</th>\n",
              "      <td>1.000000</td>\n",
              "    </tr>\n",
              "    <tr>\n",
              "      <th>35</th>\n",
              "      <td>0.970293</td>\n",
              "    </tr>\n",
              "    <tr>\n",
              "      <th>74</th>\n",
              "      <td>1.000000</td>\n",
              "    </tr>\n",
              "    <tr>\n",
              "      <th>73</th>\n",
              "      <td>1.000000</td>\n",
              "    </tr>\n",
              "  </tbody>\n",
              "</table>\n",
              "</div>"
            ],
            "text/plain": [
              "    prob_true\n",
              "71   1.000000\n",
              "83   1.000000\n",
              "35   0.970293\n",
              "74   1.000000\n",
              "73   1.000000"
            ]
          },
          "metadata": {
            "tags": []
          }
        }
      ]
    }
  ]
}